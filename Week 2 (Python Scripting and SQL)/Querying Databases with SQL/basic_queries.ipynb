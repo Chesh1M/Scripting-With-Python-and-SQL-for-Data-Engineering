{
 "cells": [
  {
   "cell_type": "code",
   "execution_count": 3,
   "metadata": {},
   "outputs": [],
   "source": [
    "import sqlite3\n",
    "connection = sqlite3.connect('sample.db')\n",
    "cursor = connection.cursor()"
   ]
  },
  {
   "cell_type": "code",
   "execution_count": 4,
   "metadata": {},
   "outputs": [
    {
     "name": "stdout",
     "output_type": "stream",
     "text": [
      "(1, 'Joel', 'Barrera')\n",
      "(2, 'Raymond', 'Dennis')\n",
      "(3, 'Louis', 'Hughes')\n",
      "(4, 'Daniel', 'Chase')\n",
      "(5, 'Desiree', 'Larson')\n",
      "(6, 'William', 'Moore')\n",
      "(7, 'Mary', 'Gonzales')\n",
      "(8, 'Joy', 'Adams')\n",
      "(9, 'Brandon', 'Fernandez')\n",
      "(10, 'Laura', 'Bass')\n"
     ]
    }
   ],
   "source": [
    "query = '''\n",
    "SELECT * \n",
    "FROM people\n",
    "LIMIT 10\n",
    "'''\n",
    "\n",
    "for result in cursor.execute(query):\n",
    "    print(result)"
   ]
  },
  {
   "cell_type": "markdown",
   "metadata": {},
   "source": [
    "Instead of doing everything with SQL statements we can do some processing on Python side instead\n",
    "Simple example alternative of above\n",
    "*(but python is slower)"
   ]
  },
  {
   "cell_type": "code",
   "execution_count": 8,
   "metadata": {},
   "outputs": [
    {
     "name": "stdout",
     "output_type": "stream",
     "text": [
      "(1, 'Joel', 'Barrera')\n",
      "(2, 'Raymond', 'Dennis')\n",
      "(3, 'Louis', 'Hughes')\n",
      "(4, 'Daniel', 'Chase')\n",
      "(5, 'Desiree', 'Larson')\n",
      "(6, 'William', 'Moore')\n",
      "(7, 'Mary', 'Gonzales')\n",
      "(8, 'Joy', 'Adams')\n",
      "(9, 'Brandon', 'Fernandez')\n",
      "(10, 'Laura', 'Bass')\n"
     ]
    }
   ],
   "source": [
    "query = '''\n",
    "SELECT * \n",
    "FROM people\n",
    "'''\n",
    "\n",
    "count = 0\n",
    "\n",
    "for result in cursor.execute(query):\n",
    "    if count >= 10:\n",
    "        break\n",
    "    print(result)\n",
    "    count += 1"
   ]
  },
  {
   "cell_type": "code",
   "execution_count": 10,
   "metadata": {},
   "outputs": [
    {
     "name": "stdout",
     "output_type": "stream",
     "text": [
      "('Joel', 'Barrera')\n",
      "('Raymond', 'Dennis')\n",
      "('Louis', 'Hughes')\n",
      "('Daniel', 'Chase')\n",
      "('Desiree', 'Larson')\n",
      "('William', 'Moore')\n",
      "('Mary', 'Gonzales')\n",
      "('Joy', 'Adams')\n",
      "('Brandon', 'Fernandez')\n",
      "('Laura', 'Bass')\n"
     ]
    }
   ],
   "source": [
    "## Print specified column only\n",
    "query = '''\n",
    "SELECT name, surname\n",
    "FROM people\n",
    "LIMIT 10\n",
    "'''\n",
    "\n",
    "for result in cursor.execute(query):\n",
    "    print(result)"
   ]
  },
  {
   "cell_type": "code",
   "execution_count": 14,
   "metadata": {},
   "outputs": [
    {
     "name": "stdout",
     "output_type": "stream",
     "text": [
      "First name: Tracy, Last name: Contreras\n",
      "First name: Tracy, Last name: Hensley\n",
      "First name: Tracy, Last name: Nguyen\n"
     ]
    }
   ],
   "source": [
    "query = '''\n",
    "SELECT name, surname\n",
    "FROM people\n",
    "WHERE name = 'Tracy'\n",
    "ORDER BY surname\n",
    "'''\n",
    "\n",
    "for result in cursor.execute(query):\n",
    "    print(f\"First name: {result[0]}, Last name: {result[1]}\")"
   ]
  },
  {
   "cell_type": "code",
   "execution_count": 31,
   "metadata": {},
   "outputs": [
    {
     "name": "stdout",
     "output_type": "stream",
     "text": [
      "First name: Mary, Last name: Gonzales\n",
      "First name: Tara, Last name: Ryan\n",
      "First name: Mark, Last name: Mckinney\n",
      "First name: Tracy, Last name: Contreras\n",
      "First name: Bethany, Last name: Clay\n",
      "First name: Mary, Last name: Potter\n",
      "First name: Mark, Last name: Burton\n",
      "First name: Mary, Last name: Christensen\n",
      "First name: Mark, Last name: Holland\n",
      "First name: Diana, Last name: Weaver\n",
      "First name: Tracy, Last name: Nguyen\n",
      "First name: Mary, Last name: Parker\n",
      "First name: Richard, Last name: Moore\n",
      "First name: Tracy, Last name: Hensley\n",
      "First name: Shaun, Last name: Baker\n",
      "First name: Michael, Last name: Williams\n",
      "First name: Amy, Last name: Weaver\n"
     ]
    }
   ],
   "source": [
    "query = '''\n",
    "SELECT name, surname\n",
    "FROM people\n",
    "WHERE name like '%a__' \n",
    "''' ## any characters before 'a', and then followed by any 2 random chars __\n",
    "\n",
    "for result in cursor.execute(query):\n",
    "    print(f\"First name: {result[0]}, Last name: {result[1]}\")"
   ]
  }
 ],
 "metadata": {
  "kernelspec": {
   "display_name": "Python 3",
   "language": "python",
   "name": "python3"
  },
  "language_info": {
   "codemirror_mode": {
    "name": "ipython",
    "version": 3
   },
   "file_extension": ".py",
   "mimetype": "text/x-python",
   "name": "python",
   "nbconvert_exporter": "python",
   "pygments_lexer": "ipython3",
   "version": "3.10.13"
  }
 },
 "nbformat": 4,
 "nbformat_minor": 2
}
