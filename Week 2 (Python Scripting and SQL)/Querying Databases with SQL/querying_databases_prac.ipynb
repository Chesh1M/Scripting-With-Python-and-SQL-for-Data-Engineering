{
 "cells": [
  {
   "cell_type": "markdown",
   "metadata": {},
   "source": [
    "# Querying Databases \n",
    "Querying database with slightly more advanced queries\n",
    "\n",
    "**SQL statements in strict order:**\n",
    "- SELECT\n",
    "- FROM\n",
    "- WHERE\n",
    "- GROUP BY\n",
    "- HAVING\n",
    "- ORDER BY"
   ]
  },
  {
   "cell_type": "code",
   "execution_count": 1,
   "metadata": {},
   "outputs": [],
   "source": [
    "import sqlite3\n",
    "connection = sqlite3.connect(':memory:')"
   ]
  },
  {
   "cell_type": "code",
   "execution_count": 2,
   "metadata": {},
   "outputs": [],
   "source": [
    "# Create a table for holding path and size of files\n",
    "table = 'CREATE TABLE files (id integer primary key, path TEXT, bytes INTEGER)'\n",
    "cursor = connection.cursor()\n",
    "cursor.execute(table)\n",
    "connection.commit()"
   ]
  },
  {
   "cell_type": "markdown",
   "metadata": {},
   "source": [
    "**Import sample data 'large_files.py'**"
   ]
  },
  {
   "cell_type": "code",
   "execution_count": 4,
   "metadata": {},
   "outputs": [],
   "source": [
    "from large_files import files\n",
    "\n",
    "for metadata in files:\n",
    "    query = 'INSERT INTO files(path, bytes) VALUES(?, ?)'\n",
    "    # the execute() method accepts a query and optionally a tuple with values \n",
    "    # corresponding to the question marks in VALUES\n",
    "    cursor.execute(query, metadata)\n",
    "    connection.commit()"
   ]
  },
  {
   "cell_type": "markdown",
   "metadata": {},
   "source": [
    "Since SQLite always returns an iterator as the result, it is required to loop over the resulting object. \n",
    "\n",
    "Create a query to count the items in the files table. This query will use the **COUNT()** function that returns the number of items in the selected column:"
   ]
  },
  {
   "cell_type": "code",
   "execution_count": 14,
   "metadata": {},
   "outputs": [
    {
     "name": "stdout",
     "output_type": "stream",
     "text": [
      "(2001,)\n"
     ]
    }
   ],
   "source": [
    "query = '''\n",
    "SELECT COUNT(id) \n",
    "FROM files\n",
    "'''\n",
    "\n",
    "for i in cursor.execute(query):\n",
    "    print(i)"
   ]
  },
  {
   "cell_type": "markdown",
   "metadata": {},
   "source": [
    "Using the **LIMIT** statement"
   ]
  },
  {
   "cell_type": "code",
   "execution_count": 15,
   "metadata": {},
   "outputs": [
    {
     "name": "stdout",
     "output_type": "stream",
     "text": [
      "(1, '/Users/alfredo/Library/Application Support/.DS_Store', 6148)\n",
      "(2, '/Users/alfredo/Library/Application Support/.settings', 557)\n",
      "(3, '/Users/alfredo/Library/Application Support/Firefox/installs.ini', 71)\n",
      "(4, '/Users/alfredo/Library/Application Support/Firefox/profiles.ini', 286)\n",
      "(5, '/Users/alfredo/Library/Application Support/Firefox/Profiles/3zgfj4k7.default/times.json', 47)\n",
      "(6, '/Users/alfredo/Library/Application Support/Firefox/Profiles/vxy45f54.default-release/compatibility.ini', 220)\n",
      "(7, '/Users/alfredo/Library/Application Support/Firefox/Profiles/vxy45f54.default-release/favicons.sqlite-wal', 524704)\n",
      "(8, '/Users/alfredo/Library/Application Support/Firefox/Profiles/vxy45f54.default-release/addons.json', 24)\n",
      "(9, '/Users/alfredo/Library/Application Support/Firefox/Profiles/vxy45f54.default-release/.parentlock', 0)\n",
      "(10, '/Users/alfredo/Library/Application Support/Firefox/Profiles/vxy45f54.default-release/logins.json', 643)\n"
     ]
    }
   ],
   "source": [
    "query = '''\n",
    "SELECT * \n",
    "FROM files LIMIT 10\n",
    "'''\n",
    "for i in cursor.execute(query):\n",
    "    print(i)"
   ]
  },
  {
   "cell_type": "markdown",
   "metadata": {},
   "source": [
    "Filtering and selecting specific data using the **WHERE** and **AND** statement "
   ]
  },
  {
   "cell_type": "code",
   "execution_count": 26,
   "metadata": {},
   "outputs": [
    {
     "name": "stdout",
     "output_type": "stream",
     "text": [
      "Path: /Users/alfredo/Library/Application Support/Firefox/Profiles/vxy45f54.default-release/gmp-gmpopenh264/1.8.1.1/libgmpopenh264.dylib, size: 1012096\n",
      "Path: /Users/alfredo/Library/Application Support/Spotify/PersistentCache/Users/alfredodeza-user/primary.ldb/000185.ldb, size: 1154359\n",
      "Path: /Users/alfredo/Library/Application Support/Spotify/PersistentCache/public.ldb/000068.log, size: 1558748\n",
      "Path: /Users/alfredo/Library/Application Support/Code/CrashpadMetrics.pma, size: 1048576\n",
      "Path: /Users/alfredo/Library/Application Support/Code/CrashpadMetrics-active.pma, size: 1048576\n",
      "Path: /Users/alfredo/Library/Application Support/Code/CachedData/83bd43bc519d15e50c4272c6cf5c1479df196a4d/extension-02bfbbb8c523494c70f28aabf2702bad.code, size: 1301264\n",
      "Path: /Users/alfredo/Library/Application Support/Code/CachedData/83bd43bc519d15e50c4272c6cf5c1479df196a4d/vendor.bundle-35eab141fb58a98555e456589277d1a5.code, size: 1002776\n",
      "Path: /Users/alfredo/Library/Application Support/Code/CachedData/83bd43bc519d15e50c4272c6cf5c1479df196a4d/extensionHostProcess-261545aaed60ab9b6bd2f0760d4c1284.code, size: 1387976\n",
      "Path: /Users/alfredo/Library/Application Support/Code/CachedData/83bd43bc519d15e50c4272c6cf5c1479df196a4d/vendor.bundle-ce4597e547286cc67ecce0ddb2165b0a.code, size: 1002776\n",
      "Path: /Users/alfredo/Library/Application Support/Code/CachedData/83bd43bc519d15e50c4272c6cf5c1479df196a4d/extension-102e06fbfe90ec8b0e7620e8c32249f1.code, size: 1632432\n"
     ]
    }
   ],
   "source": [
    "## Filter by files between than 1mb and 2mb (1000000b & 2000000b) \n",
    "query = '''\n",
    "SELECT path, bytes\n",
    "FROM files\n",
    "WHERE bytes > 1000000 AND bytes < 2000000\n",
    "LIMIT 10\n",
    "'''\n",
    "\n",
    "for i in cursor.execute(query):\n",
    "    print(f\"Path: {i[0]}, size: {i[1]}\")"
   ]
  },
  {
   "cell_type": "markdown",
   "metadata": {},
   "source": [
    "Finding the largest file using the **MAX()** function"
   ]
  },
  {
   "cell_type": "code",
   "execution_count": 25,
   "metadata": {},
   "outputs": [
    {
     "name": "stdout",
     "output_type": "stream",
     "text": [
      "('/Users/alfredo/Library/Application Support/Quake3/baseq3/pak0.pk3', 479493658)\n"
     ]
    }
   ],
   "source": [
    "query = '''\n",
    "SELECT path, MAX(bytes)\n",
    "FROM files\n",
    "'''\n",
    "\n",
    "for i in cursor.execute(query):\n",
    "    print(i)"
   ]
  },
  {
   "cell_type": "markdown",
   "metadata": {},
   "source": [
    "Searching the database using **LIKE** with the wildcard placeholder '%'.\n",
    "\n",
    "'_' can also be used as a single character wildcard, 2 '__' for double characters etc.. "
   ]
  },
  {
   "cell_type": "code",
   "execution_count": 45,
   "metadata": {},
   "outputs": [
    {
     "name": "stdout",
     "output_type": "stream",
     "text": [
      "('/Users/alfredo/Library/Application Support/AddressBook/Sources/CCB8CED3-EBC7-43D3-AB10-6FA77C01BB88/SyncOperations.plist.lockfile', 0)\n",
      "('/Users/alfredo/Library/Application Support/AddressBook/Sources/CCB8CED3-EBC7-43D3-AB10-6FA77C01BB88/SyncAnchor', 480)\n",
      "('/Users/alfredo/Library/Application Support/AddressBook/Sources/CCB8CED3-EBC7-43D3-AB10-6FA77C01BB88/Metadata/AA69D963-7038-4312-890E-59D3871105DA:ABPerson.abcdp', 1369)\n",
      "('/Users/alfredo/Library/Application Support/AddressBook/Sources/CCB8CED3-EBC7-43D3-AB10-6FA77C01BB88/Metadata/A7DA178E-2859-4DF8-8461-C5E105F02613:ABPerson.abcdp', 1352)\n",
      "('/Users/alfredo/Library/Application Support/AddressBook/Sources/CCB8CED3-EBC7-43D3-AB10-6FA77C01BB88/Metadata/283CBCCD-D5C8-43D4-9AC9-C88F002075CF:ABPerson.abcdp', 1333)\n",
      "('/Users/alfredo/Library/Application Support/AddressBook/Sources/CCB8CED3-EBC7-43D3-AB10-6FA77C01BB88/Metadata/3119D8F5-F2A0-4CC1-A3E8-566E51DE6A2B:ABPerson.abcdp', 1374)\n",
      "('/Users/alfredo/Library/Application Support/AddressBook/Sources/CCB8CED3-EBC7-43D3-AB10-6FA77C01BB88/Metadata/D4F00BD1-0867-4183-BA2F-2EDFD396C984:ABPerson.abcdp', 1445)\n",
      "('/Users/alfredo/Library/Application Support/AddressBook/Sources/CCB8CED3-EBC7-43D3-AB10-6FA77C01BB88/Metadata/5FA64CBA-BA72-4E29-8ABB-DE7210CAA125:ABPerson.abcdp', 1361)\n",
      "('/Users/alfredo/Library/Application Support/AddressBook/Sources/CCB8CED3-EBC7-43D3-AB10-6FA77C01BB88/Metadata/D1810669-ED4E-4AF4-9F9F-24C3D201F43A:ABPerson.abcdp', 1362)\n",
      "('/Users/alfredo/Library/Application Support/AddressBook/Sources/CCB8CED3-EBC7-43D3-AB10-6FA77C01BB88/Metadata/28C2E23B-EAC8-4330-8766-0CDFE732FE03:ABPerson.abcdp', 1370)\n",
      "('/Users/alfredo/Library/Application Support/AddressBook/Sources/CCB8CED3-EBC7-43D3-AB10-6FA77C01BB88/Metadata/4A00DAE3-E617-428E-98B3-D82CFB80F7AF:ABPerson.abcdp', 1361)\n",
      "('/Users/alfredo/Library/Application Support/AddressBook/Sources/CCB8CED3-EBC7-43D3-AB10-6FA77C01BB88/Metadata/D948A032-9DED-4F51-8F26-87A693EA519D:ABPerson.abcdp', 1383)\n",
      "('/Users/alfredo/Library/Application Support/AddressBook/Sources/CCB8CED3-EBC7-43D3-AB10-6FA77C01BB88/Metadata/01BBEA98-66FA-42DF-95A0-B5CCEC6F0FAF:ABPerson.abcdp', 1404)\n",
      "('/Users/alfredo/Library/Application Support/AddressBook/Sources/CCB8CED3-EBC7-43D3-AB10-6FA77C01BB88/Metadata/71F048FC-8207-405B-90C0-173FF15A0A26:ABPerson.abcdp', 1358)\n",
      "('/Users/alfredo/Library/Application Support/AddressBook/Sources/CCB8CED3-EBC7-43D3-AB10-6FA77C01BB88/Metadata/EA7E8949-CDEB-472D-89FD-8D5AD367C5F2:ABPerson.abcdp', 1414)\n",
      "('/Users/alfredo/Library/Application Support/AddressBook/Sources/CCB8CED3-EBC7-43D3-AB10-6FA77C01BB88/Metadata/D6860713-E0B8-4D56-BC73-29194D0DCE33:ABPerson.abcdp', 1383)\n",
      "('/Users/alfredo/Library/Application Support/AddressBook/Sources/CCB8CED3-EBC7-43D3-AB10-6FA77C01BB88/Metadata/955B8EB0-BBDD-4C4C-934D-D227DC1DF353:ABPerson.abcdp', 1362)\n",
      "('/Users/alfredo/Library/Application Support/AddressBook/Sources/CCB8CED3-EBC7-43D3-AB10-6FA77C01BB88/Metadata/E0630291-424F-4E0D-9DC4-AB006D87BF88:ABPerson.abcdp', 1499)\n"
     ]
    }
   ],
   "source": [
    "query = '''\n",
    "SELECT path, bytes\n",
    "FROM files\n",
    "WHERE path like '%ADDRESS%BOOK%' AND bytes < 1500\n",
    "'''\n",
    "\n",
    "for result in cursor.execute(query):\n",
    "    print(result)"
   ]
  }
 ],
 "metadata": {
  "kernelspec": {
   "display_name": "Python 3",
   "language": "python",
   "name": "python3"
  },
  "language_info": {
   "codemirror_mode": {
    "name": "ipython",
    "version": 3
   },
   "file_extension": ".py",
   "mimetype": "text/x-python",
   "name": "python",
   "nbconvert_exporter": "python",
   "pygments_lexer": "ipython3",
   "version": "3.10.13"
  }
 },
 "nbformat": 4,
 "nbformat_minor": 2
}
