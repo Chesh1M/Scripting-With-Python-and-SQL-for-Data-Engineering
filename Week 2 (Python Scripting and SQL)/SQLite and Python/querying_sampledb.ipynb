{
 "cells": [
  {
   "cell_type": "markdown",
   "metadata": {},
   "source": [
    "Create list of 100 fake names using the faker module\n",
    "Normalize the data to include only the names which are of length 2 (first and last name only)"
   ]
  },
  {
   "cell_type": "code",
   "execution_count": 8,
   "metadata": {},
   "outputs": [
    {
     "data": {
      "text/plain": [
       "[['Joel', 'Barrera'],\n",
       " ['Raymond', 'Dennis'],\n",
       " ['Louis', 'Hughes'],\n",
       " ['Daniel', 'Chase'],\n",
       " ['Desiree', 'Larson'],\n",
       " ['William', 'Moore'],\n",
       " ['Mary', 'Gonzales'],\n",
       " ['Joy', 'Adams'],\n",
       " ['Brandon', 'Fernandez'],\n",
       " ['Laura', 'Bass'],\n",
       " ['Katherine', 'Olsen'],\n",
       " ['Jodi', 'Houston'],\n",
       " ['Hannah', 'Jenkins'],\n",
       " ['Lee', 'Molina'],\n",
       " ['Tara', 'Ryan'],\n",
       " ['Tanya', 'Wade'],\n",
       " ['Chris', 'Duke'],\n",
       " ['Mark', 'Mckinney'],\n",
       " ['Tracy', 'Contreras'],\n",
       " ['Jesus', 'Higgins'],\n",
       " ['Courtney', 'Brown'],\n",
       " ['Nancy', 'Morris'],\n",
       " ['Melissa', 'Oconnor'],\n",
       " ['Bethany', 'Clay'],\n",
       " ['Christopher', 'Thompson'],\n",
       " ['Kristi', 'Townsend'],\n",
       " ['Martha', 'Watkins'],\n",
       " ['Kenneth', 'Hart'],\n",
       " ['Mary', 'Potter'],\n",
       " ['Michelle', 'Hall'],\n",
       " ['Elizabeth', 'Gonzales'],\n",
       " ['Robert', 'Jones'],\n",
       " ['Mark', 'Burton'],\n",
       " ['Gloria', 'Huang'],\n",
       " ['Henry', 'Freeman'],\n",
       " ['Mary', 'Christensen'],\n",
       " ['Joseph', 'Avila'],\n",
       " ['Hunter', 'Parrish'],\n",
       " ['Jeffrey', 'Branch'],\n",
       " ['Lauren', 'George'],\n",
       " ['Jennifer', 'Costa'],\n",
       " ['Steven', 'Vasquez'],\n",
       " ['Jason', 'Hernandez'],\n",
       " ['Lynn', 'Mayo'],\n",
       " ['Alexander', 'Jenkins'],\n",
       " ['Christy', 'Warren'],\n",
       " ['Wayne', 'Gonzalez'],\n",
       " ['William', 'Mason'],\n",
       " ['Christine', 'Beasley'],\n",
       " ['Krystal', 'Stein'],\n",
       " ['Bradley', 'Smith'],\n",
       " ['Mark', 'Holland'],\n",
       " ['Daniel', 'Williams'],\n",
       " ['Diana', 'Weaver'],\n",
       " ['Tracy', 'Nguyen'],\n",
       " ['Beverly', 'Moore'],\n",
       " ['Hannah', 'Hawkins'],\n",
       " ['John', 'Wade'],\n",
       " ['Dustin', 'Sanchez'],\n",
       " ['Joshua', 'Cole'],\n",
       " ['Mary', 'Parker'],\n",
       " ['Joshua', 'Lane'],\n",
       " ['Kevin', 'Sullivan'],\n",
       " ['Ashley', 'Perez'],\n",
       " ['Patricia', 'Potts'],\n",
       " ['Kevin', 'Travis'],\n",
       " ['Richard', 'Moore'],\n",
       " ['Jesse', 'Holmes'],\n",
       " ['Linda', 'Marshall'],\n",
       " ['Bryan', 'Brown'],\n",
       " ['Crystal', 'Howard'],\n",
       " ['Jeffrey', 'Crawford'],\n",
       " ['Katherine', 'Leblanc'],\n",
       " ['Olivia', 'Haynes'],\n",
       " ['Jill', 'Mitchell'],\n",
       " ['Erica', 'Mejia'],\n",
       " ['John', 'Francis'],\n",
       " ['Jessica', 'Johnson'],\n",
       " ['Tracy', 'Hensley'],\n",
       " ['Theresa', 'Martin'],\n",
       " ['Cristian', 'Barnes'],\n",
       " ['Andrew', 'Davis'],\n",
       " ['Stephen', 'Collier'],\n",
       " ['Shaun', 'Baker'],\n",
       " ['Scott', 'Howard'],\n",
       " ['Michael', 'Williams'],\n",
       " ['Ryan', 'Santiago'],\n",
       " ['Derrick', 'Hernandez'],\n",
       " ['Melinda', 'Ramirez'],\n",
       " ['Jesse', 'Andrade'],\n",
       " ['Jennifer', 'Juarez'],\n",
       " ['David', 'Brown'],\n",
       " ['Glenn', 'Johnson'],\n",
       " ['Kelly', 'Moses'],\n",
       " ['Justin', 'Moody'],\n",
       " ['Amy', 'Weaver'],\n",
       " ['Cheryl', 'Schwartz'],\n",
       " ['Connie', 'Cruz']]"
      ]
     },
     "execution_count": 8,
     "metadata": {},
     "output_type": "execute_result"
    }
   ],
   "source": [
    "\n",
    "from faker import Faker\n",
    "fake = Faker()\n",
    "names = [fake.name().split() for i in range(100)]\n",
    "names = [name for name in names if len(name) == 2]\n",
    "\n",
    "names"
   ]
  },
  {
   "cell_type": "markdown",
   "metadata": {},
   "source": [
    "Connect to sample.db"
   ]
  },
  {
   "cell_type": "code",
   "execution_count": 11,
   "metadata": {},
   "outputs": [],
   "source": [
    "import sqlite3\n",
    "connection = sqlite3.connect('sample.db')"
   ]
  },
  {
   "cell_type": "markdown",
   "metadata": {},
   "source": [
    "Insert names generated into sample.db\n",
    "\n",
    "(?, ?) will be what the values that we pass into the database be replacing"
   ]
  },
  {
   "cell_type": "code",
   "execution_count": 12,
   "metadata": {},
   "outputs": [],
   "source": [
    "insert_query = 'INSERT INTO people(name, surname) VALUES(?, ?)'\n",
    "cursor = connection.cursor()\n",
    "\n",
    "for name in names:\n",
    "    cursor.execute(insert_query, name)\n",
    "\n",
    "connection.commit()"
   ]
  },
  {
   "cell_type": "markdown",
   "metadata": {},
   "source": [
    "Check the database"
   ]
  },
  {
   "cell_type": "code",
   "execution_count": 15,
   "metadata": {},
   "outputs": [
    {
     "name": "stdout",
     "output_type": "stream",
     "text": [
      "(1, 'Joel', 'Barrera')\n",
      "(2, 'Raymond', 'Dennis')\n",
      "(3, 'Louis', 'Hughes')\n",
      "(4, 'Daniel', 'Chase')\n",
      "(5, 'Desiree', 'Larson')\n",
      "(6, 'William', 'Moore')\n",
      "(7, 'Mary', 'Gonzales')\n",
      "(8, 'Joy', 'Adams')\n",
      "(9, 'Brandon', 'Fernandez')\n",
      "(10, 'Laura', 'Bass')\n"
     ]
    }
   ],
   "source": [
    "select_query = 'SELECT * from people LIMIT 10'\n",
    "\n",
    "for i in cursor.execute(select_query):\n",
    "    print(i)"
   ]
  }
 ],
 "metadata": {
  "kernelspec": {
   "display_name": "Python 3",
   "language": "python",
   "name": "python3"
  },
  "language_info": {
   "codemirror_mode": {
    "name": "ipython",
    "version": 3
   },
   "file_extension": ".py",
   "mimetype": "text/x-python",
   "name": "python",
   "nbconvert_exporter": "python",
   "pygments_lexer": "ipython3",
   "version": "3.10.13"
  }
 },
 "nbformat": 4,
 "nbformat_minor": 2
}
