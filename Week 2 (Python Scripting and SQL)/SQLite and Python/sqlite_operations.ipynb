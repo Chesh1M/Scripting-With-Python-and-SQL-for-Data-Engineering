{
 "cells": [
  {
   "cell_type": "markdown",
   "metadata": {},
   "source": [
    "# Connecting to SQlite\n",
    "\n",
    "There are different ways to connect to a SQLite database. For most connections to databases including SQLite you will need a connection object and a cursor. \n",
    "- The connection allows you to communicate with the database \n",
    "- The cursor is what executes the query. \n",
    "\n",
    "Start by connecting to an in-memory database first."
   ]
  },
  {
   "cell_type": "code",
   "execution_count": 1,
   "metadata": {},
   "outputs": [],
   "source": [
    "# SQLite can run in-memory, no file will be created, and when the program ends, the database goes away\n",
    "import sqlite3\n",
    "connection = sqlite3.connect(':memory:')"
   ]
  },
  {
   "cell_type": "markdown",
   "metadata": {},
   "source": [
    "You now have a connection object, and a running database that lives in-memory while this program runs. The next step is to create some tables for the database"
   ]
  },
  {
   "cell_type": "markdown",
   "metadata": {},
   "source": [
    "# Creating a Table\n"
   ]
  },
  {
   "cell_type": "code",
   "execution_count": 2,
   "metadata": {},
   "outputs": [],
   "source": [
    "# define the query to create a table to hold file paths and sizes in bytes for those files\n",
    "table = 'CREATE TABLE files (id integer primary key, path TEXT, bytes INTEGER)'"
   ]
  },
  {
   "cell_type": "markdown",
   "metadata": {},
   "source": [
    "1. Use the cursor to execute the query\n",
    "2. Commit the result to the database."
   ]
  },
  {
   "cell_type": "code",
   "execution_count": 3,
   "metadata": {},
   "outputs": [],
   "source": [
    "cursor = connection.cursor()\n",
    "cursor.execute(table)\n",
    "connection.commit()"
   ]
  },
  {
   "cell_type": "markdown",
   "metadata": {},
   "source": [
    "# Adding data to a table"
   ]
  },
  {
   "cell_type": "markdown",
   "metadata": {},
   "source": [
    "**Get list of file paths**"
   ]
  },
  {
   "cell_type": "code",
   "execution_count": 4,
   "metadata": {},
   "outputs": [
    {
     "data": {
      "text/plain": [
       "[['../Python Scripting Basics/main.py', '355b'],\n",
       " ['../Python Scripting Basics/find_large_files.py', '1232b'],\n",
       " ['../Python Scripting Basics/python_scripting_basics.py', '83b'],\n",
       " ['../Python Scripting Basics/traversing_filesys.py', '472b'],\n",
       " ['../Python Scripting Basics/__pycache__/main.cpython-310.pyc', '655b'],\n",
       " ['../SQLite and Python/create.py', '366b'],\n",
       " ['../SQLite and Python/sample.db', '8192b'],\n",
       " ['../SQLite and Python/querying_sampledb.ipynb', '6236b'],\n",
       " ['../SQLite and Python/sqlite_operations.ipynb', '3889b']]"
      ]
     },
     "execution_count": 4,
     "metadata": {},
     "output_type": "execute_result"
    }
   ],
   "source": [
    "import os\n",
    "\n",
    "files_and_size = []\n",
    "\n",
    "for root, dirs, files in os.walk('..'):\n",
    "    for file in files:\n",
    "        tmp = []\n",
    "        path = os.path.join(root, file)\n",
    "        tmp.append(path)\n",
    "        size = str(os.path.getsize(path)) + 'b'\n",
    "        tmp.append(size)\n",
    "        files_and_size.append(tmp)\n",
    "\n",
    "files_and_size"
   ]
  },
  {
   "cell_type": "markdown",
   "metadata": {},
   "source": [
    "**Insert data into the database**"
   ]
  },
  {
   "cell_type": "code",
   "execution_count": 5,
   "metadata": {},
   "outputs": [],
   "source": [
    "insert_query = 'INSERT INTO files (path, bytes) VALUES(?, ?)'\n",
    "\n",
    "for item in files_and_size:\n",
    "    cursor.execute(insert_query, item)\n",
    "\n",
    "connection.commit()"
   ]
  },
  {
   "cell_type": "markdown",
   "metadata": {},
   "source": [
    "**Check database**\n",
    "\n",
    "The resulting object that the cursor returns is an iterable that you can use to loop over the results"
   ]
  },
  {
   "cell_type": "code",
   "execution_count": 6,
   "metadata": {},
   "outputs": [
    {
     "name": "stdout",
     "output_type": "stream",
     "text": [
      "(1, '../Python Scripting Basics/main.py', '355b')\n",
      "(2, '../Python Scripting Basics/find_large_files.py', '1232b')\n",
      "(3, '../Python Scripting Basics/python_scripting_basics.py', '83b')\n",
      "(4, '../Python Scripting Basics/traversing_filesys.py', '472b')\n",
      "(5, '../Python Scripting Basics/__pycache__/main.cpython-310.pyc', '655b')\n",
      "(6, '../SQLite and Python/create.py', '366b')\n",
      "(7, '../SQLite and Python/sample.db', '8192b')\n",
      "(8, '../SQLite and Python/querying_sampledb.ipynb', '6236b')\n",
      "(9, '../SQLite and Python/sqlite_operations.ipynb', '3889b')\n"
     ]
    }
   ],
   "source": [
    "result = cursor.execute('SELECT * from files')\n",
    "for line in result:\n",
    "    print(line)"
   ]
  }
 ],
 "metadata": {
  "kernelspec": {
   "display_name": "Python 3",
   "language": "python",
   "name": "python3"
  },
  "language_info": {
   "codemirror_mode": {
    "name": "ipython",
    "version": 3
   },
   "file_extension": ".py",
   "mimetype": "text/x-python",
   "name": "python",
   "nbconvert_exporter": "python",
   "pygments_lexer": "ipython3",
   "version": "3.10.13"
  }
 },
 "nbformat": 4,
 "nbformat_minor": 2
}
